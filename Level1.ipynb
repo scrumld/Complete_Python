{
  "nbformat": 4,
  "nbformat_minor": 0,
  "metadata": {
    "colab": {
      "provenance": [],
      "authorship_tag": "ABX9TyPakFFvd+0/zSEyjT8ZT7i3"
    },
    "kernelspec": {
      "name": "python3",
      "display_name": "Python 3"
    },
    "language_info": {
      "name": "python"
    }
  },
  "cells": [
    {
      "cell_type": "code",
      "execution_count": null,
      "metadata": {
        "colab": {
          "base_uri": "https://localhost:8080/"
        },
        "id": "w62rg8BOHJ-S",
        "outputId": "e0c519e9-856b-48b6-b4ad-c3466c8bd45e"
      },
      "outputs": [
        {
          "output_type": "stream",
          "name": "stdout",
          "text": [
            "This is fun\n"
          ]
        }
      ],
      "source": [
        "print(\"This is fun\")"
      ]
    }
  ]
}